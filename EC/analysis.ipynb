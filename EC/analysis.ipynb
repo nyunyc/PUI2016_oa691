{
 "cells": [
  {
   "cell_type": "markdown",
   "metadata": {},
   "source": [
    "# NYC Energy Star Rated Building Analysis"
   ]
  },
  {
   "cell_type": "code",
   "execution_count": 1,
   "metadata": {
    "collapsed": false
   },
   "outputs": [],
   "source": [
    " from __future__ import print_function, division\n",
    "import pandas as pd\n",
    "import numpy as np\n",
    "import seaborn as sns\n",
    "import geopandas as gp\n",
    "import os\n",
    "import json\n",
    "%matplotlib  inline\n",
    "\n",
    "\n",
    "import statsmodels.api as sm"
   ]
  },
  {
   "cell_type": "code",
   "execution_count": 2,
   "metadata": {
    "collapsed": false
   },
   "outputs": [],
   "source": [
    "nrg2013 = gp.GeoDataFrame.from_csv(\"DATA/2013 New York Benchmarking Ordinance (excl. audit data) (1).csv\")\n",
    "nrg2014 = gp.GeoDataFrame.from_csv(\"DATA/2014-Energy_and_Water_Data_Disclosure_for_Local_Law__2014.csv\")\n",
    "#nrg2014.head()"
   ]
  },
  {
   "cell_type": "code",
   "execution_count": 3,
   "metadata": {
    "collapsed": false
   },
   "outputs": [],
   "source": [
    "#Replace strings\n",
    "nrg2013.columns = [c.replace(' ', '_') for c in nrg2013.columns]\n",
    "nrg2014.columns = [c.replace(' ', '_') for c in nrg2014.columns]"
   ]
  },
  {
   "cell_type": "code",
   "execution_count": 4,
   "metadata": {
    "collapsed": false
   },
   "outputs": [],
   "source": [
    "nrg2013 = nrg2013[['BBL', 'ENERGY_STAR_Score', 'Weather_Normalized_Source_EUI_(kBtu/ft^2)', 'Reported_Floor_Area_(ft^2)']]\n",
    "nrg2014 = nrg2014[['NYC_Borough,_Block,_and_Lot_(BBL)', 'ENERGY_STAR_Score', 'Weather_Normalized_Source_EUI(kBtu/ft2)', \n",
    "                   'Reported_Property_Floor_Area_(Building(s))_(ft²)']]"
   ]
  },
  {
   "cell_type": "code",
   "execution_count": 5,
   "metadata": {
    "collapsed": true
   },
   "outputs": [],
   "source": [
    "new_columns = ['bbl', 'energy_star', 'wns_eui', 'reported_sqft']"
   ]
  },
  {
   "cell_type": "code",
   "execution_count": 6,
   "metadata": {
    "collapsed": true
   },
   "outputs": [],
   "source": [
    "nrg2013.columns = new_columns\n",
    "nrg2014.columns = new_columns"
   ]
  },
  {
   "cell_type": "code",
   "execution_count": 7,
   "metadata": {
    "collapsed": true
   },
   "outputs": [],
   "source": [
    "nrg2013['year'] = 2013\n",
    "nrg2014['year'] = 2014"
   ]
  },
  {
   "cell_type": "code",
   "execution_count": 8,
   "metadata": {
    "collapsed": true
   },
   "outputs": [],
   "source": [
    "# strings to numeric\n",
    "nrg2014 = nrg2014.apply(lambda x: pd.to_numeric(x, errors='coerce'))"
   ]
  },
  {
   "cell_type": "code",
   "execution_count": 9,
   "metadata": {
    "collapsed": false
   },
   "outputs": [],
   "source": [
    "nrg2013 = nrg2013.dropna()\n",
    "nrg2014 = nrg2014.dropna()"
   ]
  },
  {
   "cell_type": "code",
   "execution_count": null,
   "metadata": {
    "collapsed": false
   },
   "outputs": [],
   "source": [
    "# add log values\n",
    "nrg2013 = nrg2013.assign(log_wns_eui=np.log(nrg2013.wns_eui))\n",
    "nrg2013 = nrg2013.assign(log_reported_sqft=np.log(nrg2013.reported_sqft))\n",
    "\n",
    "nrg2014 = nrg2014.assign(log_wns_eui=np.log(nrg2014.wns_eui+0.01))\n",
    "nrg2014 = nrg2014.assign(log_reported_sqft=np.log(nrg2014.reported_sqft+0.01))"
   ]
  },
  {
   "cell_type": "code",
   "execution_count": null,
   "metadata": {
    "collapsed": true
   },
   "outputs": [],
   "source": [
    "# REMOVE one outlier\n",
    "nrg2014 = nrg2014.query(\"wns_eui<1e6\")"
   ]
  },
  {
   "cell_type": "code",
   "execution_count": 12,
   "metadata": {
    "collapsed": false
   },
   "outputs": [],
   "source": [
    "nrg2013 = nrg2013.assign(energy_ge50=nrg2013.energy_star>=50)\n",
    "nrg2014 = nrg2014.assign(energy_ge50=nrg2014.energy_star>=50)\n",
    "\n",
    "nrg2013.energy_ge50 = nrg2013.energy_ge50.astype(int)\n",
    "nrg2014.energy_ge50 = nrg2014.energy_ge50.astype(int)"
   ]
  },
  {
   "cell_type": "code",
   "execution_count": 13,
   "metadata": {
    "collapsed": true
   },
   "outputs": [],
   "source": [
    "# not using\n",
    "nrg2013_lt50 = nrg2013.query(\"energy_star < 50\")\n",
    "nrg2013_ge50 = nrg2013.query(\"energy_star >= 50\")\n",
    "\n",
    "nrg2014_lt50 = nrg2014.query(\"energy_star < 50\")\n",
    "nrg2014_ge50 = nrg2014.query(\"energy_star >= 50\")"
   ]
  },
  {
   "cell_type": "markdown",
   "metadata": {},
   "source": [
    "# merging data"
   ]
  },
  {
   "cell_type": "code",
   "execution_count": 14,
   "metadata": {
    "collapsed": true
   },
   "outputs": [],
   "source": [
    "nrg = pd.concat([nrg2013, nrg2014])"
   ]
  },
  {
   "cell_type": "markdown",
   "metadata": {},
   "source": [
    "# Merged Shape"
   ]
  },
  {
   "cell_type": "code",
   "execution_count": 15,
   "metadata": {
    "collapsed": false
   },
   "outputs": [
    {
     "name": "stdout",
     "output_type": "stream",
     "text": [
      "(8485, 8)\n"
     ]
    }
   ],
   "source": [
    "print (nrg.shape)"
   ]
  },
  {
   "cell_type": "code",
   "execution_count": 16,
   "metadata": {
    "collapsed": false
   },
   "outputs": [
    {
     "name": "stdout",
     "output_type": "stream",
     "text": [
      "(1542, 8) (6943, 8)\n"
     ]
    }
   ],
   "source": [
    "print (nrg2013.shape, nrg2014.shape)"
   ]
  },
  {
   "cell_type": "code",
   "execution_count": 17,
   "metadata": {
    "collapsed": false
   },
   "outputs": [
    {
     "data": {
      "text/html": [
       "<div>\n",
       "<table border=\"1\" class=\"dataframe\">\n",
       "  <thead>\n",
       "    <tr style=\"text-align: right;\">\n",
       "      <th></th>\n",
       "      <th>bbl</th>\n",
       "      <th>energy_star</th>\n",
       "      <th>wns_eui</th>\n",
       "      <th>reported_sqft</th>\n",
       "      <th>year</th>\n",
       "      <th>log_wns_eui</th>\n",
       "      <th>log_reported_sqft</th>\n",
       "      <th>energy_ge50</th>\n",
       "    </tr>\n",
       "    <tr>\n",
       "      <th>Property Name</th>\n",
       "      <th></th>\n",
       "      <th></th>\n",
       "      <th></th>\n",
       "      <th></th>\n",
       "      <th></th>\n",
       "      <th></th>\n",
       "      <th></th>\n",
       "      <th></th>\n",
       "    </tr>\n",
       "  </thead>\n",
       "  <tbody>\n",
       "    <tr>\n",
       "      <th>NaT</th>\n",
       "      <td>1.005050e+09</td>\n",
       "      <td>44.0</td>\n",
       "      <td>201.2</td>\n",
       "      <td>235370.0</td>\n",
       "      <td>2013</td>\n",
       "      <td>5.304299</td>\n",
       "      <td>12.368914</td>\n",
       "      <td>0</td>\n",
       "    </tr>\n",
       "    <tr>\n",
       "      <th>NaT</th>\n",
       "      <td>2.040830e+09</td>\n",
       "      <td>98.0</td>\n",
       "      <td>80.8</td>\n",
       "      <td>53275.0</td>\n",
       "      <td>2013</td>\n",
       "      <td>4.391977</td>\n",
       "      <td>10.883222</td>\n",
       "      <td>1</td>\n",
       "    </tr>\n",
       "    <tr>\n",
       "      <th>NaT</th>\n",
       "      <td>1.008070e+09</td>\n",
       "      <td>57.0</td>\n",
       "      <td>257.3</td>\n",
       "      <td>204417.0</td>\n",
       "      <td>2013</td>\n",
       "      <td>5.550243</td>\n",
       "      <td>12.227917</td>\n",
       "      <td>1</td>\n",
       "    </tr>\n",
       "    <tr>\n",
       "      <th>NaT</th>\n",
       "      <td>1.012090e+09</td>\n",
       "      <td>100.0</td>\n",
       "      <td>23.5</td>\n",
       "      <td>56442.0</td>\n",
       "      <td>2013</td>\n",
       "      <td>3.157000</td>\n",
       "      <td>10.940969</td>\n",
       "      <td>1</td>\n",
       "    </tr>\n",
       "    <tr>\n",
       "      <th>NaT</th>\n",
       "      <td>1.012920e+09</td>\n",
       "      <td>74.0</td>\n",
       "      <td>175.2</td>\n",
       "      <td>104990.0</td>\n",
       "      <td>2013</td>\n",
       "      <td>5.165928</td>\n",
       "      <td>11.561620</td>\n",
       "      <td>1</td>\n",
       "    </tr>\n",
       "  </tbody>\n",
       "</table>\n",
       "</div>"
      ],
      "text/plain": [
       "                        bbl  energy_star  wns_eui  reported_sqft  year  \\\n",
       "Property Name                                                            \n",
       "NaT            1.005050e+09         44.0    201.2       235370.0  2013   \n",
       "NaT            2.040830e+09         98.0     80.8        53275.0  2013   \n",
       "NaT            1.008070e+09         57.0    257.3       204417.0  2013   \n",
       "NaT            1.012090e+09        100.0     23.5        56442.0  2013   \n",
       "NaT            1.012920e+09         74.0    175.2       104990.0  2013   \n",
       "\n",
       "               log_wns_eui  log_reported_sqft  energy_ge50  \n",
       "Property Name                                               \n",
       "NaT               5.304299          12.368914            0  \n",
       "NaT               4.391977          10.883222            1  \n",
       "NaT               5.550243          12.227917            1  \n",
       "NaT               3.157000          10.940969            1  \n",
       "NaT               5.165928          11.561620            1  "
      ]
     },
     "execution_count": 17,
     "metadata": {},
     "output_type": "execute_result"
    }
   ],
   "source": [
    "nrg2013.head()"
   ]
  },
  {
   "cell_type": "code",
   "execution_count": 18,
   "metadata": {
    "collapsed": false
   },
   "outputs": [
    {
     "data": {
      "text/html": [
       "<div>\n",
       "<table border=\"1\" class=\"dataframe\">\n",
       "  <thead>\n",
       "    <tr style=\"text-align: right;\">\n",
       "      <th></th>\n",
       "      <th>bbl</th>\n",
       "      <th>energy_star</th>\n",
       "      <th>wns_eui</th>\n",
       "      <th>reported_sqft</th>\n",
       "      <th>year</th>\n",
       "      <th>log_wns_eui</th>\n",
       "      <th>log_reported_sqft</th>\n",
       "      <th>energy_ge50</th>\n",
       "    </tr>\n",
       "    <tr>\n",
       "      <th>Record Number</th>\n",
       "      <th></th>\n",
       "      <th></th>\n",
       "      <th></th>\n",
       "      <th></th>\n",
       "      <th></th>\n",
       "      <th></th>\n",
       "      <th></th>\n",
       "      <th></th>\n",
       "    </tr>\n",
       "  </thead>\n",
       "  <tbody>\n",
       "    <tr>\n",
       "      <th>2734969.0</th>\n",
       "      <td>1010950035</td>\n",
       "      <td>31.0</td>\n",
       "      <td>249.0</td>\n",
       "      <td>153363.0</td>\n",
       "      <td>2014</td>\n",
       "      <td>5.517493</td>\n",
       "      <td>11.940563</td>\n",
       "      <td>0</td>\n",
       "    </tr>\n",
       "    <tr>\n",
       "      <th>2741228.0</th>\n",
       "      <td>1021390017</td>\n",
       "      <td>20.0</td>\n",
       "      <td>419.0</td>\n",
       "      <td>256013.0</td>\n",
       "      <td>2014</td>\n",
       "      <td>6.037895</td>\n",
       "      <td>12.452984</td>\n",
       "      <td>0</td>\n",
       "    </tr>\n",
       "    <tr>\n",
       "      <th>3108893.0</th>\n",
       "      <td>1008020056</td>\n",
       "      <td>78.0</td>\n",
       "      <td>158.3</td>\n",
       "      <td>117291.0</td>\n",
       "      <td>2014</td>\n",
       "      <td>5.064555</td>\n",
       "      <td>11.672413</td>\n",
       "      <td>1</td>\n",
       "    </tr>\n",
       "    <tr>\n",
       "      <th>3893138.0</th>\n",
       "      <td>1006970031</td>\n",
       "      <td>39.0</td>\n",
       "      <td>186.4</td>\n",
       "      <td>215000.0</td>\n",
       "      <td>2014</td>\n",
       "      <td>5.227949</td>\n",
       "      <td>12.278393</td>\n",
       "      <td>0</td>\n",
       "    </tr>\n",
       "    <tr>\n",
       "      <th>4495647.0</th>\n",
       "      <td>1001727501</td>\n",
       "      <td>79.0</td>\n",
       "      <td>112.5</td>\n",
       "      <td>121689.0</td>\n",
       "      <td>2014</td>\n",
       "      <td>4.723042</td>\n",
       "      <td>11.709224</td>\n",
       "      <td>1</td>\n",
       "    </tr>\n",
       "  </tbody>\n",
       "</table>\n",
       "</div>"
      ],
      "text/plain": [
       "                      bbl  energy_star  wns_eui  reported_sqft  year  \\\n",
       "Record Number                                                          \n",
       "2734969.0      1010950035         31.0    249.0       153363.0  2014   \n",
       "2741228.0      1021390017         20.0    419.0       256013.0  2014   \n",
       "3108893.0      1008020056         78.0    158.3       117291.0  2014   \n",
       "3893138.0      1006970031         39.0    186.4       215000.0  2014   \n",
       "4495647.0      1001727501         79.0    112.5       121689.0  2014   \n",
       "\n",
       "               log_wns_eui  log_reported_sqft  energy_ge50  \n",
       "Record Number                                               \n",
       "2734969.0         5.517493          11.940563            0  \n",
       "2741228.0         6.037895          12.452984            0  \n",
       "3108893.0         5.064555          11.672413            1  \n",
       "3893138.0         5.227949          12.278393            0  \n",
       "4495647.0         4.723042          11.709224            1  "
      ]
     },
     "execution_count": 18,
     "metadata": {},
     "output_type": "execute_result"
    }
   ],
   "source": [
    "nrg2014.head()"
   ]
  },
  {
   "cell_type": "code",
   "execution_count": 19,
   "metadata": {
    "collapsed": false
   },
   "outputs": [
    {
     "data": {
      "text/html": [
       "<div>\n",
       "<table border=\"1\" class=\"dataframe\">\n",
       "  <thead>\n",
       "    <tr style=\"text-align: right;\">\n",
       "      <th></th>\n",
       "      <th>bbl</th>\n",
       "      <th>energy_star</th>\n",
       "      <th>wns_eui</th>\n",
       "      <th>reported_sqft</th>\n",
       "      <th>year</th>\n",
       "      <th>log_wns_eui</th>\n",
       "      <th>log_reported_sqft</th>\n",
       "      <th>energy_ge50</th>\n",
       "    </tr>\n",
       "  </thead>\n",
       "  <tbody>\n",
       "    <tr>\n",
       "      <th>count</th>\n",
       "      <td>1.542000e+03</td>\n",
       "      <td>1542.000000</td>\n",
       "      <td>1542.000000</td>\n",
       "      <td>1.542000e+03</td>\n",
       "      <td>1542.0</td>\n",
       "      <td>1542.000000</td>\n",
       "      <td>1542.000000</td>\n",
       "      <td>1542.000000</td>\n",
       "    </tr>\n",
       "    <tr>\n",
       "      <th>mean</th>\n",
       "      <td>1.856788e+09</td>\n",
       "      <td>60.537613</td>\n",
       "      <td>208.541829</td>\n",
       "      <td>2.765590e+05</td>\n",
       "      <td>2013.0</td>\n",
       "      <td>5.109950</td>\n",
       "      <td>11.973078</td>\n",
       "      <td>0.669261</td>\n",
       "    </tr>\n",
       "    <tr>\n",
       "      <th>std</th>\n",
       "      <td>1.256658e+09</td>\n",
       "      <td>28.648254</td>\n",
       "      <td>141.542622</td>\n",
       "      <td>3.919691e+05</td>\n",
       "      <td>0.0</td>\n",
       "      <td>0.782197</td>\n",
       "      <td>0.975723</td>\n",
       "      <td>0.470632</td>\n",
       "    </tr>\n",
       "    <tr>\n",
       "      <th>min</th>\n",
       "      <td>1.000048e+09</td>\n",
       "      <td>1.000000</td>\n",
       "      <td>1.100000</td>\n",
       "      <td>6.106000e+03</td>\n",
       "      <td>2013.0</td>\n",
       "      <td>0.095310</td>\n",
       "      <td>8.717027</td>\n",
       "      <td>0.000000</td>\n",
       "    </tr>\n",
       "    <tr>\n",
       "      <th>25%</th>\n",
       "      <td>1.008398e+09</td>\n",
       "      <td>41.000000</td>\n",
       "      <td>128.925000</td>\n",
       "      <td>7.433100e+04</td>\n",
       "      <td>2013.0</td>\n",
       "      <td>4.859231</td>\n",
       "      <td>11.216283</td>\n",
       "      <td>0.000000</td>\n",
       "    </tr>\n",
       "    <tr>\n",
       "      <th>50%</th>\n",
       "      <td>1.012900e+09</td>\n",
       "      <td>67.000000</td>\n",
       "      <td>190.350000</td>\n",
       "      <td>1.298055e+05</td>\n",
       "      <td>2013.0</td>\n",
       "      <td>5.248864</td>\n",
       "      <td>11.773792</td>\n",
       "      <td>1.000000</td>\n",
       "    </tr>\n",
       "    <tr>\n",
       "      <th>75%</th>\n",
       "      <td>3.011183e+09</td>\n",
       "      <td>83.000000</td>\n",
       "      <td>253.150000</td>\n",
       "      <td>2.932690e+05</td>\n",
       "      <td>2013.0</td>\n",
       "      <td>5.533982</td>\n",
       "      <td>12.588846</td>\n",
       "      <td>1.000000</td>\n",
       "    </tr>\n",
       "    <tr>\n",
       "      <th>max</th>\n",
       "      <td>5.074810e+09</td>\n",
       "      <td>100.000000</td>\n",
       "      <td>1651.400000</td>\n",
       "      <td>3.636683e+06</td>\n",
       "      <td>2013.0</td>\n",
       "      <td>7.409379</td>\n",
       "      <td>15.106583</td>\n",
       "      <td>1.000000</td>\n",
       "    </tr>\n",
       "  </tbody>\n",
       "</table>\n",
       "</div>"
      ],
      "text/plain": [
       "                bbl  energy_star      wns_eui  reported_sqft    year  \\\n",
       "count  1.542000e+03  1542.000000  1542.000000   1.542000e+03  1542.0   \n",
       "mean   1.856788e+09    60.537613   208.541829   2.765590e+05  2013.0   \n",
       "std    1.256658e+09    28.648254   141.542622   3.919691e+05     0.0   \n",
       "min    1.000048e+09     1.000000     1.100000   6.106000e+03  2013.0   \n",
       "25%    1.008398e+09    41.000000   128.925000   7.433100e+04  2013.0   \n",
       "50%    1.012900e+09    67.000000   190.350000   1.298055e+05  2013.0   \n",
       "75%    3.011183e+09    83.000000   253.150000   2.932690e+05  2013.0   \n",
       "max    5.074810e+09   100.000000  1651.400000   3.636683e+06  2013.0   \n",
       "\n",
       "       log_wns_eui  log_reported_sqft  energy_ge50  \n",
       "count  1542.000000        1542.000000  1542.000000  \n",
       "mean      5.109950          11.973078     0.669261  \n",
       "std       0.782197           0.975723     0.470632  \n",
       "min       0.095310           8.717027     0.000000  \n",
       "25%       4.859231          11.216283     0.000000  \n",
       "50%       5.248864          11.773792     1.000000  \n",
       "75%       5.533982          12.588846     1.000000  \n",
       "max       7.409379          15.106583     1.000000  "
      ]
     },
     "execution_count": 19,
     "metadata": {},
     "output_type": "execute_result"
    }
   ],
   "source": [
    "nrg2013.describe()"
   ]
  },
  {
   "cell_type": "code",
   "execution_count": 20,
   "metadata": {
    "collapsed": false
   },
   "outputs": [
    {
     "data": {
      "text/html": [
       "<div>\n",
       "<table border=\"1\" class=\"dataframe\">\n",
       "  <thead>\n",
       "    <tr style=\"text-align: right;\">\n",
       "      <th></th>\n",
       "      <th>bbl</th>\n",
       "      <th>energy_star</th>\n",
       "      <th>wns_eui</th>\n",
       "      <th>reported_sqft</th>\n",
       "      <th>year</th>\n",
       "      <th>log_wns_eui</th>\n",
       "      <th>log_reported_sqft</th>\n",
       "      <th>energy_ge50</th>\n",
       "    </tr>\n",
       "  </thead>\n",
       "  <tbody>\n",
       "    <tr>\n",
       "      <th>count</th>\n",
       "      <td>6.943000e+03</td>\n",
       "      <td>6943.000000</td>\n",
       "      <td>6943.000000</td>\n",
       "      <td>6.943000e+03</td>\n",
       "      <td>6943.0</td>\n",
       "      <td>6943.000000</td>\n",
       "      <td>6943.000000</td>\n",
       "      <td>6943.000000</td>\n",
       "    </tr>\n",
       "    <tr>\n",
       "      <th>mean</th>\n",
       "      <td>2.190202e+09</td>\n",
       "      <td>55.245283</td>\n",
       "      <td>488.672130</td>\n",
       "      <td>1.842589e+05</td>\n",
       "      <td>2014.0</td>\n",
       "      <td>4.869592</td>\n",
       "      <td>11.665143</td>\n",
       "      <td>0.592251</td>\n",
       "    </tr>\n",
       "    <tr>\n",
       "      <th>std</th>\n",
       "      <td>1.208264e+09</td>\n",
       "      <td>29.999989</td>\n",
       "      <td>6092.819225</td>\n",
       "      <td>3.500912e+05</td>\n",
       "      <td>0.0</td>\n",
       "      <td>0.832100</td>\n",
       "      <td>1.008834</td>\n",
       "      <td>0.491451</td>\n",
       "    </tr>\n",
       "    <tr>\n",
       "      <th>min</th>\n",
       "      <td>1.000048e+09</td>\n",
       "      <td>0.000000</td>\n",
       "      <td>0.000000</td>\n",
       "      <td>0.000000e+00</td>\n",
       "      <td>2014.0</td>\n",
       "      <td>-4.605170</td>\n",
       "      <td>-4.605170</td>\n",
       "      <td>0.000000</td>\n",
       "    </tr>\n",
       "    <tr>\n",
       "      <th>25%</th>\n",
       "      <td>1.012924e+09</td>\n",
       "      <td>31.000000</td>\n",
       "      <td>104.200000</td>\n",
       "      <td>6.765250e+04</td>\n",
       "      <td>2014.0</td>\n",
       "      <td>4.646408</td>\n",
       "      <td>11.122140</td>\n",
       "      <td>0.000000</td>\n",
       "    </tr>\n",
       "    <tr>\n",
       "      <th>50%</th>\n",
       "      <td>2.030440e+09</td>\n",
       "      <td>59.000000</td>\n",
       "      <td>129.600000</td>\n",
       "      <td>9.643200e+04</td>\n",
       "      <td>2014.0</td>\n",
       "      <td>4.864530</td>\n",
       "      <td>11.476593</td>\n",
       "      <td>1.000000</td>\n",
       "    </tr>\n",
       "    <tr>\n",
       "      <th>75%</th>\n",
       "      <td>3.061290e+09</td>\n",
       "      <td>80.000000</td>\n",
       "      <td>168.100000</td>\n",
       "      <td>1.677730e+05</td>\n",
       "      <td>2014.0</td>\n",
       "      <td>5.124619</td>\n",
       "      <td>12.030367</td>\n",
       "      <td>1.000000</td>\n",
       "    </tr>\n",
       "    <tr>\n",
       "      <th>max</th>\n",
       "      <td>5.077020e+09</td>\n",
       "      <td>100.000000</td>\n",
       "      <td>304775.300000</td>\n",
       "      <td>1.421712e+07</td>\n",
       "      <td>2014.0</td>\n",
       "      <td>12.627330</td>\n",
       "      <td>16.469957</td>\n",
       "      <td>1.000000</td>\n",
       "    </tr>\n",
       "  </tbody>\n",
       "</table>\n",
       "</div>"
      ],
      "text/plain": [
       "                bbl  energy_star        wns_eui  reported_sqft    year  \\\n",
       "count  6.943000e+03  6943.000000    6943.000000   6.943000e+03  6943.0   \n",
       "mean   2.190202e+09    55.245283     488.672130   1.842589e+05  2014.0   \n",
       "std    1.208264e+09    29.999989    6092.819225   3.500912e+05     0.0   \n",
       "min    1.000048e+09     0.000000       0.000000   0.000000e+00  2014.0   \n",
       "25%    1.012924e+09    31.000000     104.200000   6.765250e+04  2014.0   \n",
       "50%    2.030440e+09    59.000000     129.600000   9.643200e+04  2014.0   \n",
       "75%    3.061290e+09    80.000000     168.100000   1.677730e+05  2014.0   \n",
       "max    5.077020e+09   100.000000  304775.300000   1.421712e+07  2014.0   \n",
       "\n",
       "       log_wns_eui  log_reported_sqft  energy_ge50  \n",
       "count  6943.000000        6943.000000  6943.000000  \n",
       "mean      4.869592          11.665143     0.592251  \n",
       "std       0.832100           1.008834     0.491451  \n",
       "min      -4.605170          -4.605170     0.000000  \n",
       "25%       4.646408          11.122140     0.000000  \n",
       "50%       4.864530          11.476593     1.000000  \n",
       "75%       5.124619          12.030367     1.000000  \n",
       "max      12.627330          16.469957     1.000000  "
      ]
     },
     "execution_count": 20,
     "metadata": {},
     "output_type": "execute_result"
    }
   ],
   "source": [
    "nrg2014.describe()"
   ]
  },
  {
   "cell_type": "code",
   "execution_count": 21,
   "metadata": {
    "collapsed": false
   },
   "outputs": [
    {
     "data": {
      "text/html": [
       "<div>\n",
       "<table border=\"1\" class=\"dataframe\">\n",
       "  <thead>\n",
       "    <tr style=\"text-align: right;\">\n",
       "      <th></th>\n",
       "      <th>bbl</th>\n",
       "      <th>energy_star</th>\n",
       "      <th>wns_eui</th>\n",
       "      <th>reported_sqft</th>\n",
       "      <th>year</th>\n",
       "      <th>log_wns_eui</th>\n",
       "      <th>log_reported_sqft</th>\n",
       "      <th>energy_ge50</th>\n",
       "    </tr>\n",
       "  </thead>\n",
       "  <tbody>\n",
       "    <tr>\n",
       "      <th>count</th>\n",
       "      <td>8.485000e+03</td>\n",
       "      <td>8485.000000</td>\n",
       "      <td>8485.000000</td>\n",
       "      <td>8.485000e+03</td>\n",
       "      <td>8485.000000</td>\n",
       "      <td>8485.000000</td>\n",
       "      <td>8485.000000</td>\n",
       "      <td>8485.000000</td>\n",
       "    </tr>\n",
       "    <tr>\n",
       "      <th>mean</th>\n",
       "      <td>2.129610e+09</td>\n",
       "      <td>56.207071</td>\n",
       "      <td>437.763359</td>\n",
       "      <td>2.010328e+05</td>\n",
       "      <td>2013.818268</td>\n",
       "      <td>4.913273</td>\n",
       "      <td>11.721105</td>\n",
       "      <td>0.606246</td>\n",
       "    </tr>\n",
       "    <tr>\n",
       "      <th>std</th>\n",
       "      <td>1.223900e+09</td>\n",
       "      <td>29.827156</td>\n",
       "      <td>5512.767622</td>\n",
       "      <td>3.598068e+05</td>\n",
       "      <td>0.385647</td>\n",
       "      <td>0.828413</td>\n",
       "      <td>1.009848</td>\n",
       "      <td>0.488610</td>\n",
       "    </tr>\n",
       "    <tr>\n",
       "      <th>min</th>\n",
       "      <td>1.000048e+09</td>\n",
       "      <td>0.000000</td>\n",
       "      <td>0.000000</td>\n",
       "      <td>0.000000e+00</td>\n",
       "      <td>2013.000000</td>\n",
       "      <td>-4.605170</td>\n",
       "      <td>-4.605170</td>\n",
       "      <td>0.000000</td>\n",
       "    </tr>\n",
       "    <tr>\n",
       "      <th>25%</th>\n",
       "      <td>1.012240e+09</td>\n",
       "      <td>32.000000</td>\n",
       "      <td>106.100000</td>\n",
       "      <td>6.844000e+04</td>\n",
       "      <td>2014.000000</td>\n",
       "      <td>4.664476</td>\n",
       "      <td>11.133713</td>\n",
       "      <td>0.000000</td>\n",
       "    </tr>\n",
       "    <tr>\n",
       "      <th>50%</th>\n",
       "      <td>2.026220e+09</td>\n",
       "      <td>60.000000</td>\n",
       "      <td>135.100000</td>\n",
       "      <td>1.007520e+05</td>\n",
       "      <td>2014.000000</td>\n",
       "      <td>4.906015</td>\n",
       "      <td>11.520417</td>\n",
       "      <td>1.000000</td>\n",
       "    </tr>\n",
       "    <tr>\n",
       "      <th>75%</th>\n",
       "      <td>3.056500e+09</td>\n",
       "      <td>81.000000</td>\n",
       "      <td>185.700000</td>\n",
       "      <td>1.844280e+05</td>\n",
       "      <td>2014.000000</td>\n",
       "      <td>5.224186</td>\n",
       "      <td>12.125014</td>\n",
       "      <td>1.000000</td>\n",
       "    </tr>\n",
       "    <tr>\n",
       "      <th>max</th>\n",
       "      <td>5.077020e+09</td>\n",
       "      <td>100.000000</td>\n",
       "      <td>304775.300000</td>\n",
       "      <td>1.421712e+07</td>\n",
       "      <td>2014.000000</td>\n",
       "      <td>12.627330</td>\n",
       "      <td>16.469957</td>\n",
       "      <td>1.000000</td>\n",
       "    </tr>\n",
       "  </tbody>\n",
       "</table>\n",
       "</div>"
      ],
      "text/plain": [
       "                bbl  energy_star        wns_eui  reported_sqft         year  \\\n",
       "count  8.485000e+03  8485.000000    8485.000000   8.485000e+03  8485.000000   \n",
       "mean   2.129610e+09    56.207071     437.763359   2.010328e+05  2013.818268   \n",
       "std    1.223900e+09    29.827156    5512.767622   3.598068e+05     0.385647   \n",
       "min    1.000048e+09     0.000000       0.000000   0.000000e+00  2013.000000   \n",
       "25%    1.012240e+09    32.000000     106.100000   6.844000e+04  2014.000000   \n",
       "50%    2.026220e+09    60.000000     135.100000   1.007520e+05  2014.000000   \n",
       "75%    3.056500e+09    81.000000     185.700000   1.844280e+05  2014.000000   \n",
       "max    5.077020e+09   100.000000  304775.300000   1.421712e+07  2014.000000   \n",
       "\n",
       "       log_wns_eui  log_reported_sqft  energy_ge50  \n",
       "count  8485.000000        8485.000000  8485.000000  \n",
       "mean      4.913273          11.721105     0.606246  \n",
       "std       0.828413           1.009848     0.488610  \n",
       "min      -4.605170          -4.605170     0.000000  \n",
       "25%       4.664476          11.133713     0.000000  \n",
       "50%       4.906015          11.520417     1.000000  \n",
       "75%       5.224186          12.125014     1.000000  \n",
       "max      12.627330          16.469957     1.000000  "
      ]
     },
     "execution_count": 21,
     "metadata": {},
     "output_type": "execute_result"
    }
   ],
   "source": [
    "nrg.describe()"
   ]
  },
  {
   "cell_type": "code",
   "execution_count": 22,
   "metadata": {
    "collapsed": false
   },
   "outputs": [
    {
     "data": {
      "text/plain": [
       "<matplotlib.axes._subplots.AxesSubplot at 0x7f899b6fb650>"
      ]
     },
     "execution_count": 22,
     "metadata": {},
     "output_type": "execute_result"
    },
    {
     "data": {
      "image/png": "[encoded data removed]",
      "text/plain": [
       "<matplotlib.figure.Figure at 0x7f899b60f650>"
      ]
     },
     "metadata": {},
     "output_type": "display_data"
    }
   ],
   "source": [
    "nrg2014['wns_eui'].plot(kind=\"hist\")"
   ]
  },
  {
   "cell_type": "code",
   "execution_count": 23,
   "metadata": {
    "collapsed": false
   },
   "outputs": [
    {
     "data": {
      "text/plain": [
       "<matplotlib.axes._subplots.AxesSubplot at 0x7f899e02b650>"
      ]
     },
     "execution_count": 23,
     "metadata": {},
     "output_type": "execute_result"
    },
    {
     "data": {
      "image/png": "[encoded data removed]",
      "text/plain": [
       "<matplotlib.figure.Figure at 0x7f899b60fc90>"
      ]
     },
     "metadata": {},
     "output_type": "display_data"
    }
   ],
   "source": [
    "nrg2014['log_wns_eui'].plot(kind=\"hist\")"
   ]
  },
  {
   "cell_type": "code",
   "execution_count": 24,
   "metadata": {
    "collapsed": false
   },
   "outputs": [
    {
     "data": {
      "text/plain": [
       "<matplotlib.axes._subplots.AxesSubplot at 0x7f899b6747d0>"
      ]
     },
     "execution_count": 24,
     "metadata": {},
     "output_type": "execute_result"
    },
    {
     "data": {
      "image/png": "[encoded data removed]",
      "text/plain": [
       "<matplotlib.figure.Figure at 0x7f899b68f190>"
      ]
     },
     "metadata": {},
     "output_type": "display_data"
    }
   ],
   "source": [
    "nrg2013['reported_sqft'].plot(kind=\"hist\")"
   ]
  },
  {
   "cell_type": "markdown",
   "metadata": {},
   "source": [
    "# Weather Normalized EUI (y) vs. Reported Floor area Sq. Ft (x)"
   ]
  },
  {
   "cell_type": "code",
   "execution_count": 28,
   "metadata": {
    "collapsed": false
   },
   "outputs": [
    {
     "data": {
      "text/plain": [
       "<matplotlib.axes._subplots.AxesSubplot at 0x7f898ba3eb90>"
      ]
     },
     "execution_count": 28,
     "metadata": {},
     "output_type": "execute_result"
    },
    {
     "data": {
      "image/png": "[encoded data removed]",
      "text/plain": [
       "<matplotlib.figure.Figure at 0x7f898ba32a90>"
      ]
     },
     "metadata": {},
     "output_type": "display_data"
    }
   ],
   "source": [
    "nrg2013.plot(x='log_reported_sqft', y='log_wns_eui', kind='scatter', title=\"Weather Normalized Source EUI (kBtu/ft^2) vs. Reported Floor Area (ft^2)\")"
   ]
  },
  {
   "cell_type": "code",
   "execution_count": 36,
   "metadata": {
    "collapsed": false
   },
   "outputs": [
    {
     "data": {
      "text/plain": [
       "<matplotlib.axes._subplots.AxesSubplot at 0x7f8986a7c810>"
      ]
     },
     "execution_count": 36,
     "metadata": {},
     "output_type": "execute_result"
    },
    {
     "data": {
      "image/png": "[encoded data removed]",
      "text/plain": [
       "<matplotlib.figure.Figure at 0x7f8986b427d0>"
      ]
     },
     "metadata": {},
     "output_type": "display_data"
    }
   ],
   "source": [
    "nrg2014.plot(x='log_reported_sqft', y='log_wns_eui', kind='scatter', title=\"Weather Normalized Source EUI (kBtu/ft^2) vs. Reported Floor Area (ft^2)\")"
   ]
  },
  {
   "cell_type": "markdown",
   "metadata": {
    "collapsed": true
   },
   "source": [
    "# Weather Normalized EUI (y) vs. Reported Floor area Sq. Ft (x)\n",
    "## Regression"
   ]
  },
  {
   "cell_type": "code",
   "execution_count": 38,
   "metadata": {
    "collapsed": false
   },
   "outputs": [],
   "source": [
    "# 2013\n",
    "regression = sm.OLS(nrg2013['log_wns_eui'], nrg2013['log_reported_sqft']).fit()"
   ]
  },
  {
   "cell_type": "code",
   "execution_count": 54,
   "metadata": {
    "collapsed": false
   },
   "outputs": [
    {
     "data": {
      "text/html": [
       "<table class=\"simpletable\">\n",
       "<caption>OLS Regression Results</caption>\n",
       "<tr>\n",
       "  <th>Dep. Variable:</th>       <td>log_wns_eui</td>   <th>  R-squared:         </th> <td>   0.978</td> \n",
       "</tr>\n",
       "<tr>\n",
       "  <th>Model:</th>                   <td>OLS</td>       <th>  Adj. R-squared:    </th> <td>   0.978</td> \n",
       "</tr>\n",
       "<tr>\n",
       "  <th>Method:</th>             <td>Least Squares</td>  <th>  F-statistic:       </th> <td>1.556e+05</td>\n",
       "</tr>\n",
       "<tr>\n",
       "  <th>Date:</th>             <td>Thu, 15 Dec 2016</td> <th>  Prob (F-statistic):</th>  <td>  0.00</td>  \n",
       "</tr>\n",
       "<tr>\n",
       "  <th>Time:</th>                 <td>23:20:19</td>     <th>  Log-Likelihood:    </th> <td> -7663.6</td> \n",
       "</tr>\n",
       "<tr>\n",
       "  <th>No. Observations:</th>      <td>  6943</td>      <th>  AIC:               </th> <td>1.533e+04</td>\n",
       "</tr>\n",
       "<tr>\n",
       "  <th>Df Residuals:</th>          <td>  6941</td>      <th>  BIC:               </th> <td>1.534e+04</td>\n",
       "</tr>\n",
       "<tr>\n",
       "  <th>Df Model:</th>              <td>     2</td>      <th>                     </th>     <td> </td>    \n",
       "</tr>\n",
       "<tr>\n",
       "  <th>Covariance Type:</th>      <td>nonrobust</td>    <th>                     </th>     <td> </td>    \n",
       "</tr>\n",
       "</table>\n",
       "<table class=\"simpletable\">\n",
       "<tr>\n",
       "          <td></td>             <th>coef</th>     <th>std err</th>      <th>t</th>      <th>P>|t|</th> <th>[95.0% Conf. Int.]</th> \n",
       "</tr>\n",
       "<tr>\n",
       "  <th>log_reported_sqft</th> <td>    0.4450</td> <td>    0.001</td> <td>  379.845</td> <td> 0.000</td> <td>    0.443     0.447</td>\n",
       "</tr>\n",
       "<tr>\n",
       "  <th>energy_ge50</th>       <td>   -0.5617</td> <td>    0.018</td> <td>  -31.510</td> <td> 0.000</td> <td>   -0.597    -0.527</td>\n",
       "</tr>\n",
       "</table>\n",
       "<table class=\"simpletable\">\n",
       "<tr>\n",
       "  <th>Omnibus:</th>       <td>2253.663</td> <th>  Durbin-Watson:     </th>  <td>   1.716</td> \n",
       "</tr>\n",
       "<tr>\n",
       "  <th>Prob(Omnibus):</th>  <td> 0.000</td>  <th>  Jarque-Bera (JB):  </th> <td>512084.067</td>\n",
       "</tr>\n",
       "<tr>\n",
       "  <th>Skew:</th>           <td>-0.201</td>  <th>  Prob(JB):          </th>  <td>    0.00</td> \n",
       "</tr>\n",
       "<tr>\n",
       "  <th>Kurtosis:</th>       <td>45.071</td>  <th>  Cond. No.          </th>  <td>    23.9</td> \n",
       "</tr>\n",
       "</table>"
      ],
      "text/plain": [
       "<class 'statsmodels.iolib.summary.Summary'>\n",
       "\"\"\"\n",
       "                            OLS Regression Results                            \n",
       "==============================================================================\n",
       "Dep. Variable:            log_wns_eui   R-squared:                       0.978\n",
       "Model:                            OLS   Adj. R-squared:                  0.978\n",
       "Method:                 Least Squares   F-statistic:                 1.556e+05\n",
       "Date:                Thu, 15 Dec 2016   Prob (F-statistic):               0.00\n",
       "Time:                        23:20:19   Log-Likelihood:                -7663.6\n",
       "No. Observations:                6943   AIC:                         1.533e+04\n",
       "Df Residuals:                    6941   BIC:                         1.534e+04\n",
       "Df Model:                           2                                         \n",
       "Covariance Type:            nonrobust                                         \n",
       "=====================================================================================\n",
       "                        coef    std err          t      P>|t|      [95.0% Conf. Int.]\n",
       "-------------------------------------------------------------------------------------\n",
       "log_reported_sqft     0.4450      0.001    379.845      0.000         0.443     0.447\n",
       "energy_ge50          -0.5617      0.018    -31.510      0.000        -0.597    -0.527\n",
       "==============================================================================\n",
       "Omnibus:                     2253.663   Durbin-Watson:                   1.716\n",
       "Prob(Omnibus):                  0.000   Jarque-Bera (JB):           512084.067\n",
       "Skew:                          -0.201   Prob(JB):                         0.00\n",
       "Kurtosis:                      45.071   Cond. No.                         23.9\n",
       "==============================================================================\n",
       "\n",
       "Warnings:\n",
       "[1] Standard Errors assume that the covariance matrix of the errors is correctly specified.\n",
       "\"\"\""
      ]
     },
     "execution_count": 54,
     "metadata": {},
     "output_type": "execute_result"
    }
   ],
   "source": [
    "\n",
    "regression.summary()"
   ]
  },
  {
   "cell_type": "code",
   "execution_count": 40,
   "metadata": {
    "collapsed": true
   },
   "outputs": [],
   "source": [
    "# 2014\n",
    "regression = sm.OLS(nrg2014['log_wns_eui'], nrg2014['log_reported_sqft']).fit()"
   ]
  },
  {
   "cell_type": "code",
   "execution_count": 41,
   "metadata": {
    "collapsed": false
   },
   "outputs": [
    {
     "data": {
      "text/html": [
       "<table class=\"simpletable\">\n",
       "<caption>OLS Regression Results</caption>\n",
       "<tr>\n",
       "  <th>Dep. Variable:</th>       <td>log_wns_eui</td>   <th>  R-squared:         </th> <td>   0.975</td> \n",
       "</tr>\n",
       "<tr>\n",
       "  <th>Model:</th>                   <td>OLS</td>       <th>  Adj. R-squared:    </th> <td>   0.975</td> \n",
       "</tr>\n",
       "<tr>\n",
       "  <th>Method:</th>             <td>Least Squares</td>  <th>  F-statistic:       </th> <td>2.714e+05</td>\n",
       "</tr>\n",
       "<tr>\n",
       "  <th>Date:</th>             <td>Thu, 15 Dec 2016</td> <th>  Prob (F-statistic):</th>  <td>  0.00</td>  \n",
       "</tr>\n",
       "<tr>\n",
       "  <th>Time:</th>                 <td>22:55:43</td>     <th>  Log-Likelihood:    </th> <td> -8127.7</td> \n",
       "</tr>\n",
       "<tr>\n",
       "  <th>No. Observations:</th>      <td>  6943</td>      <th>  AIC:               </th> <td>1.626e+04</td>\n",
       "</tr>\n",
       "<tr>\n",
       "  <th>Df Residuals:</th>          <td>  6942</td>      <th>  BIC:               </th> <td>1.626e+04</td>\n",
       "</tr>\n",
       "<tr>\n",
       "  <th>Df Model:</th>              <td>     1</td>      <th>                     </th>     <td> </td>    \n",
       "</tr>\n",
       "<tr>\n",
       "  <th>Covariance Type:</th>      <td>nonrobust</td>    <th>                     </th>     <td> </td>    \n",
       "</tr>\n",
       "</table>\n",
       "<table class=\"simpletable\">\n",
       "<tr>\n",
       "          <td></td>             <th>coef</th>     <th>std err</th>      <th>t</th>      <th>P>|t|</th> <th>[95.0% Conf. Int.]</th> \n",
       "</tr>\n",
       "<tr>\n",
       "  <th>log_reported_sqft</th> <td>    0.4166</td> <td>    0.001</td> <td>  521.001</td> <td> 0.000</td> <td>    0.415     0.418</td>\n",
       "</tr>\n",
       "</table>\n",
       "<table class=\"simpletable\">\n",
       "<tr>\n",
       "  <th>Omnibus:</th>       <td>2137.588</td> <th>  Durbin-Watson:     </th>  <td>   1.715</td> \n",
       "</tr>\n",
       "<tr>\n",
       "  <th>Prob(Omnibus):</th>  <td> 0.000</td>  <th>  Jarque-Bera (JB):  </th> <td>413583.359</td>\n",
       "</tr>\n",
       "<tr>\n",
       "  <th>Skew:</th>           <td> 0.008</td>  <th>  Prob(JB):          </th>  <td>    0.00</td> \n",
       "</tr>\n",
       "<tr>\n",
       "  <th>Kurtosis:</th>       <td>40.811</td>  <th>  Cond. No.          </th>  <td>    1.00</td> \n",
       "</tr>\n",
       "</table>"
      ],
      "text/plain": [
       "<class 'statsmodels.iolib.summary.Summary'>\n",
       "\"\"\"\n",
       "                            OLS Regression Results                            \n",
       "==============================================================================\n",
       "Dep. Variable:            log_wns_eui   R-squared:                       0.975\n",
       "Model:                            OLS   Adj. R-squared:                  0.975\n",
       "Method:                 Least Squares   F-statistic:                 2.714e+05\n",
       "Date:                Thu, 15 Dec 2016   Prob (F-statistic):               0.00\n",
       "Time:                        22:55:43   Log-Likelihood:                -8127.7\n",
       "No. Observations:                6943   AIC:                         1.626e+04\n",
       "Df Residuals:                    6942   BIC:                         1.626e+04\n",
       "Df Model:                           1                                         \n",
       "Covariance Type:            nonrobust                                         \n",
       "=====================================================================================\n",
       "                        coef    std err          t      P>|t|      [95.0% Conf. Int.]\n",
       "-------------------------------------------------------------------------------------\n",
       "log_reported_sqft     0.4166      0.001    521.001      0.000         0.415     0.418\n",
       "==============================================================================\n",
       "Omnibus:                     2137.588   Durbin-Watson:                   1.715\n",
       "Prob(Omnibus):                  0.000   Jarque-Bera (JB):           413583.359\n",
       "Skew:                           0.008   Prob(JB):                         0.00\n",
       "Kurtosis:                      40.811   Cond. No.                         1.00\n",
       "==============================================================================\n",
       "\n",
       "Warnings:\n",
       "[1] Standard Errors assume that the covariance matrix of the errors is correctly specified.\n",
       "\"\"\""
      ]
     },
     "execution_count": 41,
     "metadata": {},
     "output_type": "execute_result"
    }
   ],
   "source": [
    "# R-2: 0.975\n",
    "# T = 521.0, P<0.001\n",
    "regression.summary()"
   ]
  },
  {
   "cell_type": "markdown",
   "metadata": {},
   "source": [
    "# By Energy Star <50"
   ]
  },
  {
   "cell_type": "code",
   "execution_count": 42,
   "metadata": {
    "collapsed": false
   },
   "outputs": [
    {
     "data": {
      "image/png": "[encoded data removed]",
      "text/plain": [
       "<matplotlib.figure.Figure at 0x7f8986a91750>"
      ]
     },
     "metadata": {},
     "output_type": "display_data"
    }
   ],
   "source": [
    "# 2013\n",
    "sns_plot=sns.lmplot(x='log_reported_sqft',  y='log_wns_eui', data=nrg2013, hue=\"energy_ge50\", size=10)"
   ]
  },
  {
   "cell_type": "code",
   "execution_count": 53,
   "metadata": {
    "collapsed": false
   },
   "outputs": [
    {
     "data": {
      "image/png": "[encoded data removed]",
      "text/plain": [
       "<matplotlib.figure.Figure at 0x7f8986a61050>"
      ]
     },
     "metadata": {},
     "output_type": "display_data"
    }
   ],
   "source": [
    "# 2014\n",
    "sns_plot=sns.lmplot(x='log_reported_sqft',  y='log_wns_eui', data=nrg2014, hue=\"energy_ge50\", size=10)\n"
   ]
  },
  {
   "cell_type": "code",
   "execution_count": 48,
   "metadata": {
    "collapsed": false
   },
   "outputs": [],
   "source": [
    "# 2013\n",
    "y = nrg2013['log_wns_eui']\n",
    "X = nrg2013[['log_reported_sqft', 'energy_ge50']]\n",
    "\n",
    "regression = sm.OLS(y, X).fit()"
   ]
  },
  {
   "cell_type": "code",
   "execution_count": 49,
   "metadata": {
    "collapsed": false
   },
   "outputs": [
    {
     "data": {
      "text/html": [
       "<table class=\"simpletable\">\n",
       "<caption>OLS Regression Results</caption>\n",
       "<tr>\n",
       "  <th>Dep. Variable:</th>       <td>log_wns_eui</td>   <th>  R-squared:         </th> <td>   0.980</td> \n",
       "</tr>\n",
       "<tr>\n",
       "  <th>Model:</th>                   <td>OLS</td>       <th>  Adj. R-squared:    </th> <td>   0.980</td> \n",
       "</tr>\n",
       "<tr>\n",
       "  <th>Method:</th>             <td>Least Squares</td>  <th>  F-statistic:       </th> <td>3.777e+04</td>\n",
       "</tr>\n",
       "<tr>\n",
       "  <th>Date:</th>             <td>Thu, 15 Dec 2016</td> <th>  Prob (F-statistic):</th>  <td>  0.00</td>  \n",
       "</tr>\n",
       "<tr>\n",
       "  <th>Time:</th>                 <td>22:56:16</td>     <th>  Log-Likelihood:    </th> <td> -1704.1</td> \n",
       "</tr>\n",
       "<tr>\n",
       "  <th>No. Observations:</th>      <td>  1542</td>      <th>  AIC:               </th> <td>   3412.</td> \n",
       "</tr>\n",
       "<tr>\n",
       "  <th>Df Residuals:</th>          <td>  1540</td>      <th>  BIC:               </th> <td>   3423.</td> \n",
       "</tr>\n",
       "<tr>\n",
       "  <th>Df Model:</th>              <td>     2</td>      <th>                     </th>     <td> </td>    \n",
       "</tr>\n",
       "<tr>\n",
       "  <th>Covariance Type:</th>      <td>nonrobust</td>    <th>                     </th>     <td> </td>    \n",
       "</tr>\n",
       "</table>\n",
       "<table class=\"simpletable\">\n",
       "<tr>\n",
       "          <td></td>             <th>coef</th>     <th>std err</th>      <th>t</th>      <th>P>|t|</th> <th>[95.0% Conf. Int.]</th> \n",
       "</tr>\n",
       "<tr>\n",
       "  <th>log_reported_sqft</th> <td>    0.4716</td> <td>    0.003</td> <td>  172.205</td> <td> 0.000</td> <td>    0.466     0.477</td>\n",
       "</tr>\n",
       "<tr>\n",
       "  <th>energy_ge50</th>       <td>   -0.8345</td> <td>    0.040</td> <td>  -20.750</td> <td> 0.000</td> <td>   -0.913    -0.756</td>\n",
       "</tr>\n",
       "</table>\n",
       "<table class=\"simpletable\">\n",
       "<tr>\n",
       "  <th>Omnibus:</th>       <td>419.222</td> <th>  Durbin-Watson:     </th> <td>   1.683</td>\n",
       "</tr>\n",
       "<tr>\n",
       "  <th>Prob(Omnibus):</th> <td> 0.000</td>  <th>  Jarque-Bera (JB):  </th> <td>1933.127</td>\n",
       "</tr>\n",
       "<tr>\n",
       "  <th>Skew:</th>          <td>-1.213</td>  <th>  Prob(JB):          </th> <td>    0.00</td>\n",
       "</tr>\n",
       "<tr>\n",
       "  <th>Kurtosis:</th>      <td> 7.920</td>  <th>  Cond. No.          </th> <td>    26.0</td>\n",
       "</tr>\n",
       "</table>"
      ],
      "text/plain": [
       "<class 'statsmodels.iolib.summary.Summary'>\n",
       "\"\"\"\n",
       "                            OLS Regression Results                            \n",
       "==============================================================================\n",
       "Dep. Variable:            log_wns_eui   R-squared:                       0.980\n",
       "Model:                            OLS   Adj. R-squared:                  0.980\n",
       "Method:                 Least Squares   F-statistic:                 3.777e+04\n",
       "Date:                Thu, 15 Dec 2016   Prob (F-statistic):               0.00\n",
       "Time:                        22:56:16   Log-Likelihood:                -1704.1\n",
       "No. Observations:                1542   AIC:                             3412.\n",
       "Df Residuals:                    1540   BIC:                             3423.\n",
       "Df Model:                           2                                         \n",
       "Covariance Type:            nonrobust                                         \n",
       "=====================================================================================\n",
       "                        coef    std err          t      P>|t|      [95.0% Conf. Int.]\n",
       "-------------------------------------------------------------------------------------\n",
       "log_reported_sqft     0.4716      0.003    172.205      0.000         0.466     0.477\n",
       "energy_ge50          -0.8345      0.040    -20.750      0.000        -0.913    -0.756\n",
       "==============================================================================\n",
       "Omnibus:                      419.222   Durbin-Watson:                   1.683\n",
       "Prob(Omnibus):                  0.000   Jarque-Bera (JB):             1933.127\n",
       "Skew:                          -1.213   Prob(JB):                         0.00\n",
       "Kurtosis:                       7.920   Cond. No.                         26.0\n",
       "==============================================================================\n",
       "\n",
       "Warnings:\n",
       "[1] Standard Errors assume that the covariance matrix of the errors is correctly specified.\n",
       "\"\"\""
      ]
     },
     "execution_count": 49,
     "metadata": {},
     "output_type": "execute_result"
    }
   ],
   "source": [
    "regression.summary()"
   ]
  },
  {
   "cell_type": "code",
   "execution_count": 50,
   "metadata": {
    "collapsed": false
   },
   "outputs": [],
   "source": [
    "# 2014\n",
    "y = nrg2014['log_wns_eui']\n",
    "X = nrg2014[['log_reported_sqft', 'energy_ge50']]\n",
    "\n",
    "regression = sm.OLS(y, X).fit()"
   ]
  },
  {
   "cell_type": "code",
   "execution_count": 56,
   "metadata": {
    "collapsed": false,
    "scrolled": true
   },
   "outputs": [
    {
     "data": {
      "text/html": [
       "<table class=\"simpletable\">\n",
       "<caption>OLS Regression Results</caption>\n",
       "<tr>\n",
       "  <th>Dep. Variable:</th>       <td>log_wns_eui</td>   <th>  R-squared:         </th> <td>   0.978</td> \n",
       "</tr>\n",
       "<tr>\n",
       "  <th>Model:</th>                   <td>OLS</td>       <th>  Adj. R-squared:    </th> <td>   0.978</td> \n",
       "</tr>\n",
       "<tr>\n",
       "  <th>Method:</th>             <td>Least Squares</td>  <th>  F-statistic:       </th> <td>1.556e+05</td>\n",
       "</tr>\n",
       "<tr>\n",
       "  <th>Date:</th>             <td>Thu, 15 Dec 2016</td> <th>  Prob (F-statistic):</th>  <td>  0.00</td>  \n",
       "</tr>\n",
       "<tr>\n",
       "  <th>Time:</th>                 <td>23:34:52</td>     <th>  Log-Likelihood:    </th> <td> -7663.6</td> \n",
       "</tr>\n",
       "<tr>\n",
       "  <th>No. Observations:</th>      <td>  6943</td>      <th>  AIC:               </th> <td>1.533e+04</td>\n",
       "</tr>\n",
       "<tr>\n",
       "  <th>Df Residuals:</th>          <td>  6941</td>      <th>  BIC:               </th> <td>1.534e+04</td>\n",
       "</tr>\n",
       "<tr>\n",
       "  <th>Df Model:</th>              <td>     2</td>      <th>                     </th>     <td> </td>    \n",
       "</tr>\n",
       "<tr>\n",
       "  <th>Covariance Type:</th>      <td>nonrobust</td>    <th>                     </th>     <td> </td>    \n",
       "</tr>\n",
       "</table>\n",
       "<table class=\"simpletable\">\n",
       "<tr>\n",
       "          <td></td>             <th>coef</th>     <th>std err</th>      <th>t</th>      <th>P>|t|</th> <th>[95.0% Conf. Int.]</th> \n",
       "</tr>\n",
       "<tr>\n",
       "  <th>log_reported_sqft</th> <td>    0.4450</td> <td>    0.001</td> <td>  379.845</td> <td> 0.000</td> <td>    0.443     0.447</td>\n",
       "</tr>\n",
       "<tr>\n",
       "  <th>energy_ge50</th>       <td>   -0.5617</td> <td>    0.018</td> <td>  -31.510</td> <td> 0.000</td> <td>   -0.597    -0.527</td>\n",
       "</tr>\n",
       "</table>\n",
       "<table class=\"simpletable\">\n",
       "<tr>\n",
       "  <th>Omnibus:</th>       <td>2253.663</td> <th>  Durbin-Watson:     </th>  <td>   1.716</td> \n",
       "</tr>\n",
       "<tr>\n",
       "  <th>Prob(Omnibus):</th>  <td> 0.000</td>  <th>  Jarque-Bera (JB):  </th> <td>512084.067</td>\n",
       "</tr>\n",
       "<tr>\n",
       "  <th>Skew:</th>           <td>-0.201</td>  <th>  Prob(JB):          </th>  <td>    0.00</td> \n",
       "</tr>\n",
       "<tr>\n",
       "  <th>Kurtosis:</th>       <td>45.071</td>  <th>  Cond. No.          </th>  <td>    23.9</td> \n",
       "</tr>\n",
       "</table>"
      ],
      "text/plain": [
       "<class 'statsmodels.iolib.summary.Summary'>\n",
       "\"\"\"\n",
       "                            OLS Regression Results                            \n",
       "==============================================================================\n",
       "Dep. Variable:            log_wns_eui   R-squared:                       0.978\n",
       "Model:                            OLS   Adj. R-squared:                  0.978\n",
       "Method:                 Least Squares   F-statistic:                 1.556e+05\n",
       "Date:                Thu, 15 Dec 2016   Prob (F-statistic):               0.00\n",
       "Time:                        23:34:52   Log-Likelihood:                -7663.6\n",
       "No. Observations:                6943   AIC:                         1.533e+04\n",
       "Df Residuals:                    6941   BIC:                         1.534e+04\n",
       "Df Model:                           2                                         \n",
       "Covariance Type:            nonrobust                                         \n",
       "=====================================================================================\n",
       "                        coef    std err          t      P>|t|      [95.0% Conf. Int.]\n",
       "-------------------------------------------------------------------------------------\n",
       "log_reported_sqft     0.4450      0.001    379.845      0.000         0.443     0.447\n",
       "energy_ge50          -0.5617      0.018    -31.510      0.000        -0.597    -0.527\n",
       "==============================================================================\n",
       "Omnibus:                     2253.663   Durbin-Watson:                   1.716\n",
       "Prob(Omnibus):                  0.000   Jarque-Bera (JB):           512084.067\n",
       "Skew:                          -0.201   Prob(JB):                         0.00\n",
       "Kurtosis:                      45.071   Cond. No.                         23.9\n",
       "==============================================================================\n",
       "\n",
       "Warnings:\n",
       "[1] Standard Errors assume that the covariance matrix of the errors is correctly specified.\n",
       "\"\"\""
      ]
     },
     "execution_count": 56,
     "metadata": {},
     "output_type": "execute_result"
    }
   ],
   "source": [
    "regression.summary()"
   ]
  },
  {
   "cell_type": "code",
   "execution_count": null,
   "metadata": {
    "collapsed": true
   },
   "outputs": [],
   "source": []
  },
  {
   "cell_type": "code",
   "execution_count": null,
   "metadata": {
    "collapsed": true
   },
   "outputs": [],
   "source": []
  },
  {
   "cell_type": "code",
   "execution_count": null,
   "metadata": {
    "collapsed": true
   },
   "outputs": [],
   "source": []
  }
 ],
 "metadata": {
  "kernelspec": {
   "display_name": "Python 2",
   "language": "python",
   "name": "python2"
  },
  "language_info": {
   "codemirror_mode": {
    "name": "ipython",
    "version": 2
   },
   "file_extension": ".py",
   "mimetype": "text/x-python",
   "name": "python",
   "nbconvert_exporter": "python",
   "pygments_lexer": "ipython2",
   "version": "2.7.11"
  }
 },
 "nbformat": 4,
 "nbformat_minor": 1
}
