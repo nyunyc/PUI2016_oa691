{
 "cells": [
  {
   "cell_type": "code",
   "execution_count": 1,
   "metadata": {
    "collapsed": false
   },
   "outputs": [
    {
     "name": "stdout",
     "output_type": "stream",
     "text": [
      "Populating the interactive namespace from numpy and matplotlib\n"
     ]
    }
   ],
   "source": [
    "from __future__ import print_function, division\n",
    "#import matplotlib.pyplot as plt\n",
    "import pandas as pd\n",
    "import numpy as np\n",
    "import pylab as pl\n",
    "import os\n",
    "import json\n",
    "import requests\n",
    "\n",
    "\n",
    "\n",
    "%pylab inline"
   ]
  },
  {
   "cell_type": "code",
   "execution_count": 2,
   "metadata": {
    "collapsed": false
   },
   "outputs": [],
   "source": [
    "# Downloaded the .csv file from the source, uploaded directly to PUIdata folder\n",
    "#os.getenv(varname[, value])\n",
    "rides = np.load(os.getenv(\"PUIDATA\")+\n",
    "                               \"/MTA_Fare.npy\")\n"
   ]
  },
  {
   "cell_type": "code",
   "execution_count": 3,
   "metadata": {
    "collapsed": false
   },
   "outputs": [
    {
     "data": {
      "text/plain": [
       "(600, 23, 194)"
      ]
     },
     "execution_count": 3,
     "metadata": {},
     "output_type": "execute_result"
    }
   ],
   "source": [
    "#Return the shape of an array\n",
    "np.ma.shape(rides)\n",
    "#rides[0:2]"
   ]
  },
  {
   "cell_type": "code",
   "execution_count": 4,
   "metadata": {
    "collapsed": false
   },
   "outputs": [],
   "source": [
    "#Convert to float and change -1 to nan\n",
    "rides = rides.astype(numpy.float, copy = False)\n",
    "rides[rides == -1] = np.nan"
   ]
  },
  {
   "cell_type": "code",
   "execution_count": 5,
   "metadata": {
    "collapsed": false
   },
   "outputs": [
    {
     "name": "stdout",
     "output_type": "stream",
     "text": [
      "using nanmean on rides: 2849.41627865\n",
      "regular mean on rides: nan\n"
     ]
    }
   ],
   "source": [
    "print (\"using nanmean on rides: \" + str (np.nanmean(rides)))\n",
    "print (\"regular mean on rides: \" + str (np.mean(rides)))"
   ]
  },
  {
   "cell_type": "code",
   "execution_count": 6,
   "metadata": {
    "collapsed": true
   },
   "outputs": [],
   "source": [
    "#Subway ridetype array\n",
    "ridetype = np.array(['10t', '14d', '1d', '2t', '30d', '7d', 'ada', 'afas', 'exp','ez',\n",
    "            'ff','mc','mr','month','rfm','rr','sen','spec','tcmc','t',\n",
    "            'umlim','xbus','stud'])"
   ]
  },
  {
   "cell_type": "code",
   "execution_count": 7,
   "metadata": {
    "collapsed": false
   },
   "outputs": [
    {
     "data": {
      "text/plain": [
       "DatetimeIndex(['2010-05-23', '2010-05-30', '2010-06-06', '2010-06-13',\n",
       "               '2010-06-20'],\n",
       "              dtype='datetime64[ns]', freq='W-SUN')"
      ]
     },
     "execution_count": 7,
     "metadata": {},
     "output_type": "execute_result"
    }
   ],
   "source": [
    "#Return a fixed frequency datetime index, with day (calendar) as the default \n",
    "#frequency by week\n",
    "#date_rng = pd.date_range('5/21/2010', '2/21/2014', freq='w')\n",
    "date_rng = pd.date_range('5/21/2010', periods=194, freq='w')\n",
    "date_rng[:5]"
   ]
  },
  {
   "cell_type": "code",
   "execution_count": 8,
   "metadata": {
    "collapsed": false
   },
   "outputs": [
    {
     "name": "stdout",
     "output_type": "stream",
     "text": [
      "(600, 23, 194)\n",
      "(23, 194)\n",
      "(600, 194)\n"
     ]
    },
    {
     "name": "stderr",
     "output_type": "stream",
     "text": [
      "/opt/rh/anaconda/root/envs/PUI2016_Python3/lib/python3.5/site-packages/numpy/lib/nanfunctions.py:675: RuntimeWarning: Mean of empty slice\n",
      "  warnings.warn(\"Mean of empty slice\", RuntimeWarning)\n",
      "/opt/rh/anaconda/root/envs/PUI2016_Python3/lib/python3.5/site-packages/numpy/lib/nanfunctions.py:675: RuntimeWarning: Mean of empty slice\n",
      "  warnings.warn(\"Mean of empty slice\", RuntimeWarning)\n"
     ]
    },
    {
     "data": {
      "text/plain": [
       "23"
      ]
     },
     "execution_count": 8,
     "metadata": {},
     "output_type": "execute_result"
    }
   ],
   "source": [
    "print (rides.shape) #all dimensions\n",
    "rides_mean0 = np.nanmean(rides, axis=0)\n",
    "rides_allsum0 = np.nansum(rides, axis=0) #Axis along which the sum is cmptd is 0\n",
    "print (rides_allsum0.shape)\n",
    "rides_mean1 = np.nanmean(rides, axis=1)\n",
    "rides_allsum1= np.nansum(rides, axis=1) #Axis along which the sum is cmptd is 1\n",
    "print (rides_allsum1.shape)\n",
    "len(rides_allsum0)"
   ]
  },
  {
   "cell_type": "code",
   "execution_count": 9,
   "metadata": {
    "collapsed": false
   },
   "outputs": [
    {
     "data": {
      "text/plain": [
       "(194,)"
      ]
     },
     "execution_count": 9,
     "metadata": {},
     "output_type": "execute_result"
    }
   ],
   "source": [
    "all_mtrides = np.nansum(rides_allsum0, axis=0)\n",
    "all_mtrides.shape\n",
    "#all_mta_stns = np.nansum(rides, axis=0)\n",
    "#len(all_mta_stns)"
   ]
  },
  {
   "cell_type": "code",
   "execution_count": 10,
   "metadata": {
    "collapsed": false
   },
   "outputs": [],
   "source": [
    "#ride_types = np.nansum(rides, axis=1)\n",
    "#all_mta_ride_types = np.nansum(ride_types, axis=1)\n",
    "#len(all_mta_ride_types)"
   ]
  },
  {
   "cell_type": "code",
   "execution_count": 11,
   "metadata": {
    "collapsed": false
   },
   "outputs": [
    {
     "name": "stdout",
     "output_type": "stream",
     "text": [
      "Arithmeric mean of subway rides is: 2849.41627865\n"
     ]
    }
   ],
   "source": [
    "#the nupy functions np.nansum(), np.sum(), np.nanmean() \n",
    "#etc take an array and the axis along which to sum as inputs.\n",
    "print ('Arithmeric mean of subway rides is: ' + str (np.nanmean(rides)))"
   ]
  },
  {
   "cell_type": "code",
   "execution_count": 12,
   "metadata": {
    "collapsed": false
   },
   "outputs": [],
   "source": [
    "#array collapsed into one dimension\n",
    "#rides.flatten()"
   ]
  },
  {
   "cell_type": "code",
   "execution_count": 13,
   "metadata": {
    "collapsed": false
   },
   "outputs": [
    {
     "name": "stdout",
     "output_type": "stream",
     "text": [
      "Sum of subway rides is: [[  1.14946150e+07   1.25268590e+07   1.27666270e+07 ...,   1.31896100e+07\n",
      "    1.25007560e+07   1.24599470e+07]\n",
      " [  5.30524000e+05   5.83533000e+05   5.86194000e+05 ...,   6.95134000e+05\n",
      "    6.70228000e+05   6.79497000e+05]\n",
      " [  4.78010000e+04   5.14860000e+04   5.16360000e+04 ...,   5.87710000e+04\n",
      "    5.65250000e+04   5.51920000e+04]\n",
      " ..., \n",
      " [  6.12800000e+03   6.12000000e+03   6.49000000e+03 ...,   5.39800000e+03\n",
      "    5.75900000e+03   6.18400000e+03]\n",
      " [  3.58000000e+02   4.74000000e+02   4.65000000e+02 ...,   8.62000000e+02\n",
      "    8.10000000e+02   8.20000000e+02]\n",
      " [  0.00000000e+00   0.00000000e+00   0.00000000e+00 ...,   1.13272300e+06\n",
      "    1.37940300e+06   5.35018000e+05]]\n",
      "Sum of subway rides is: 5777581875.0\n"
     ]
    }
   ],
   "source": [
    "#the sum of array elements from 5/21/2010\n",
    "print ('Sum of subway rides is: ' + str (np.nansum(rides, axis=0)))\n",
    "print ('Sum of subway rides is: ' + str (np.nansum(rides)))"
   ]
  },
  {
   "cell_type": "code",
   "execution_count": 14,
   "metadata": {
    "collapsed": false
   },
   "outputs": [
    {
     "name": "stderr",
     "output_type": "stream",
     "text": [
      "/opt/rh/anaconda/root/envs/PUI2016_Python3/lib/python3.5/site-packages/ipykernel/__main__.py:9: FutureWarning: pd.rolling_mean is deprecated for ndarrays and will be removed in a future version\n"
     ]
    }
   ],
   "source": [
    "#pandas.rolling_mean(arg, window, min_periods=None, \n",
    "#                    freq=None, center=False, how=None, **kwargs)\n",
    "\n",
    "#By default, the result is set to the right edge of the window. \n",
    "#This can be changed to the center of the window by setting center=True.\n",
    "#The freq keyword is used to conform time series data to a specified frequency \n",
    "#by resampling the data. This is done with the default parameters of resample() \n",
    "#(i.e. using the mean).\n",
    "mta_stns_rlng_mean = pd.rolling_mean(all_mtrides, 1, center=True)\n",
    "#mta_stns_rlng_mean"
   ]
  },
  {
   "cell_type": "code",
   "execution_count": 15,
   "metadata": {
    "collapsed": false
   },
   "outputs": [
    {
     "data": {
      "text/plain": [
       "(array([ 734016.,  734138.,  734258.,  734381.,  734503.,  734624.,\n",
       "         734747.,  734869.,  734989.,  735112.,  735234.]),\n",
       " <a list of 11 Text xticklabel objects>)"
      ]
     },
     "execution_count": 15,
     "metadata": {},
     "output_type": "execute_result"
    },
    {
     "data": {
      "image/png": "[encoded data removed]",
      "text/plain": [
       "<matplotlib.figure.Figure at 0x7f9c1e9e9e48>"
      ]
     },
     "metadata": {},
     "output_type": "display_data"
    }
   ],
   "source": [
    "pl.figure(figsize=(8,6))\n",
    "pl.xlabel('weeks')\n",
    "pl.ylabel(\"Cards swipes\")\n",
    "pl.ylim(6.5, 8)\n",
    "\n",
    "#using log10 plot to enhance visibility along the y axis\n",
    "pl.plot(date_rng, np.log10(all_mtrides), 'b', alpha=0.7)\n",
    "pl.xticks(rotation='90')"
   ]
  },
  {
   "cell_type": "code",
   "execution_count": 16,
   "metadata": {
    "collapsed": false
   },
   "outputs": [
    {
     "name": "stdout",
     "output_type": "stream",
     "text": [
      "cards_mean_byweek 29781349.87\n",
      "stdev cards_mean_byweek 2983960.42\n",
      "+3 Std Dev Limit 38733231.14 20829468.61: \n",
      "earliest datapoint 2010-05-23 00:00:00\n"
     ]
    },
    {
     "data": {
      "text/plain": [
       "dtype('float64')"
      ]
     },
     "execution_count": 16,
     "metadata": {},
     "output_type": "execute_result"
    }
   ],
   "source": [
    "#identifying the event. (as shown on FDNY Example) \n",
    "#Find Mean and Std deviation\n",
    "print (\"cards_mean_byweek {:.2f}\" .format(np.nanmean(all_mtrides)))\n",
    "print (\"stdev cards_mean_byweek {:.2f}\" .format(np.nanstd(all_mtrides)))\n",
    "\n",
    "thresholds = [np.nanmean(all_mtrides) +3 * np.nanstd(all_mtrides), \n",
    "             np.nanmean(all_mtrides) -3 *np.nanstd(all_mtrides)]\n",
    "\n",
    "print (\"+3 Std Dev Limit {:.2f} {:.2f}: \" .format(*thresholds))\n",
    "print (\"earliest datapoint\", min(date_rng))\n",
    "all_mtrides.dtype\n",
    "\n",
    "#beyond here I couldnt obtain the plot with the thresholds as shown on the FDNY example. I kept getting \n",
    "#\"ValueError: setting an array element with a sequence.\"\n",
    "#Lowest rides take place on october 23 that falls beyond the -3 threshold. \n",
    "#That day is (Hurricane Sandy Complete Subway Shutdown day) "
   ]
  },
  {
   "cell_type": "code",
   "execution_count": 17,
   "metadata": {
    "collapsed": false
   },
   "outputs": [],
   "source": [
    "#axhspan(hl, ll, facecolor='0.5', alpha=0.5)"
   ]
  },
  {
   "cell_type": "code",
   "execution_count": 18,
   "metadata": {
    "collapsed": false
   },
   "outputs": [],
   "source": [
    "#ax = all_mtrides.flatten()"
   ]
  },
  {
   "cell_type": "code",
   "execution_count": 19,
   "metadata": {
    "collapsed": true
   },
   "outputs": [],
   "source": [
    "#plt.plot(logy=True, figsize=(10,10), style=\".-\", ms=20, color=\"IndianRed\")\n",
    "#plt.plot([ax.get_xlim()[0], ax.get_xlim()[1]], [thresholds[0], thresholds[0]], color='k')\n",
    "#pl.xticks(rotation=90, fontsize=15)\n",
    "#pl.yticks(fontsize=20)\n",
    "#pl.ylim(-20, pl.ylim()[1])\n",
    "#pl.legend(fontsize=20)\n",
    "#pl.ylabel(\"log deaths\", fontsize=20)\n",
    "#pl.xlabel(\"Date\", fontsize=20)"
   ]
  },
  {
   "cell_type": "code",
   "execution_count": 20,
   "metadata": {
    "collapsed": false
   },
   "outputs": [],
   "source": [
    "#pl.figure(figsize=(8,6))\n",
    "#pl.xlabel('weeks')\n",
    "#pl.ylabel(\"Cards swipes\")\n",
    "#pl.ylim(7, 8)\n",
    "\n",
    "#using log10 plot to enhance visibility along the y axis\n",
    "#pl.plot(date_rng, np.log10(all_mtrides), 'b', alpha=0.7)\n",
    "#pl.xticks(rotation='65')\n",
    "\n",
    "#lower limit plot\n",
    "#pl.plot(((min(date_rng), max(date_rng)), np.log10(thresholds[1]), np.log10(thresholds[1])), color='r', \n",
    "#        label='lower limit = %.2f'\n",
    "#        % np.log10(thresholds[1]))\n",
    "\n",
    "#higher limit plot\n",
    "#pl.plot(((min(date_rng), max(date_rng)), np.log10(limits[0]), np.log10(limits[0])), \n",
    "#        color='bl', label='higher limit = %.2f' %np.log10(limits[0]))\n",
    "\n",
    "#pl.legend(loc='lower left')\n",
    "\n",
    "#figtext(0.1, 0.1, \"Total swipes for all fares between the specified dates. \\n\")\n",
    "\n",
    "\n",
    "#pl.plot((date_rng), max(date_rng)) \n"
   ]
  },
  {
   "cell_type": "code",
   "execution_count": 21,
   "metadata": {
    "collapsed": false
   },
   "outputs": [],
   "source": [
    "all_mtrides = np.nansum(rides, axis = 0)\n"
   ]
  },
  {
   "cell_type": "code",
   "execution_count": 33,
   "metadata": {
    "collapsed": false
   },
   "outputs": [
    {
     "ename": "AttributeError",
     "evalue": "'function' object has no attribute 'rtype'",
     "output_type": "error",
     "traceback": [
      "\u001b[0;31m---------------------------------------------------------------------------\u001b[0m",
      "\u001b[0;31mAttributeError\u001b[0m                            Traceback (most recent call last)",
      "\u001b[0;32m<ipython-input-33-003625e240a4>\u001b[0m in \u001b[0;36m<module>\u001b[0;34m()\u001b[0m\n\u001b[1;32m     42\u001b[0m \u001b[0;34m\u001b[0m\u001b[0m\n\u001b[1;32m     43\u001b[0m     \u001b[0;32mif\u001b[0m \u001b[0;34m(\u001b[0m\u001b[0;34m(\u001b[0m\u001b[0mnp\u001b[0m\u001b[0;34m.\u001b[0m\u001b[0mmin\u001b[0m\u001b[0;34m(\u001b[0m\u001b[0mall_mtrides\u001b[0m\u001b[0;34m[\u001b[0m\u001b[0mn\u001b[0m\u001b[0;34m]\u001b[0m\u001b[0;34m)\u001b[0m\u001b[0;34m)\u001b[0m \u001b[0;34m>\u001b[0m \u001b[0;36m0\u001b[0m\u001b[0;34m)\u001b[0m\u001b[0;34m:\u001b[0m\u001b[0;34m\u001b[0m\u001b[0m\n\u001b[0;32m---> 44\u001b[0;31m         \u001b[0mplot\u001b[0m\u001b[0;34m.\u001b[0m\u001b[0mrtype\u001b[0m\u001b[0;34m(\u001b[0m\u001b[0mdate_rng\u001b[0m\u001b[0;34m,\u001b[0m \u001b[0mn\u001b[0m\u001b[0;34m,\u001b[0m \u001b[0mall_colors_hex\u001b[0m\u001b[0;34m[\u001b[0m\u001b[0mcurr_col\u001b[0m\u001b[0;34m]\u001b[0m\u001b[0;34m)\u001b[0m\u001b[0;34m\u001b[0m\u001b[0m\n\u001b[0m\u001b[1;32m     45\u001b[0m         \u001b[0mcurr_col\u001b[0m \u001b[0;34m=\u001b[0m \u001b[0;34m(\u001b[0m\u001b[0mcurr_col\u001b[0m \u001b[0;34m+\u001b[0m \u001b[0;36m1\u001b[0m\u001b[0;34m)\u001b[0m\u001b[0;34m%\u001b[0m\u001b[0mseqlen\u001b[0m\u001b[0;34m\u001b[0m\u001b[0m\n\u001b[1;32m     46\u001b[0m \u001b[0;34m\u001b[0m\u001b[0m\n",
      "\u001b[0;31mAttributeError\u001b[0m: 'function' object has no attribute 'rtype'"
     ]
    },
    {
     "data": {
      "image/png": "[encoded data removed]",
      "text/plain": [
       "<matplotlib.figure.Figure at 0x7f9c1e57c588>"
      ]
     },
     "metadata": {},
     "output_type": "display_data"
    }
   ],
   "source": [
    "seqlen = len(all_colors_hex)\n",
    "\n",
    "all_colors_hex = [\n",
    "    '#FFB300', # Vivid Yellow\n",
    "    '#803E75', # Strong Purple\n",
    "    '#FF6800', # Vivid Orange\n",
    "    '#A6BDD7', # Very Light Blue\n",
    "    '#C10020', # Vivid Red\n",
    "    '#CEA262', # Grayish Yellow\n",
    "    '#817066', # Medium Gray\n",
    "    # The following don't work well for people with defective color vision\n",
    "    '#007D34', # Vivid Green\n",
    "    '#F6768E', # Strong Purplish Pink\n",
    "    '#00538A', # Strong Blue\n",
    "    '#FF7A5C', # Strong Yellowish Pink\n",
    "    '#53377A', # Strong Violet\n",
    "    '#FF8E00', # Vivid Orange Yellow\n",
    "    '#B32851', # Strong Purplish Red\n",
    "    '#F4C800', # Vivid Greenish Yellow\n",
    "    '#7F180D', # Strong Reddish Brown\n",
    "    '#93AA00', # Vivid Yellowish Green\n",
    "    '#593315', # Deep Yellowish Brown\n",
    "    '#F13A13', # Vivid Reddish Orange\n",
    "    '#232C16', # Dark Olive Green\n",
    "    ]\n",
    "\n",
    "\n",
    "def plot_cardtyp(range, rtype, color):\n",
    "    pl.plot(range, np.log10(pd.stats.moments.rolling_mean(all_mtrides[cardtyp], 10)), color=color, \n",
    "           alpha = .7, label = ridetype[cardtyp])\n",
    "    \n",
    "pl.figure(figsize=(14, 9))\n",
    "pl.xlabel(\"Weeks\")\n",
    "pl.ylabel(\"Swipes (log10))\") \n",
    "ax = plt.subplot(111)\n",
    "    \n",
    "curr_col = 0\n",
    "\n",
    "fareSeriesRatios = {}\n",
    "\n",
    "for n in range(0,len(all_mtrides)):\n",
    "    \n",
    "    if ((np.min(all_mtrides[n])) > 0):  \n",
    "        plot.rtype(date_rng, n, all_colors_hex[curr_col])\n",
    "        curr_col = (curr_col + 1)%seqlen\n",
    "    \n",
    "#begining (first ten weeks)\n",
    "#end of the series (last ten weeks)\n",
    "        \n",
    "        begningSeries = all_mtrides[n,:10].sum()\n",
    "        endSeries = all_mtrides[n,-10:].sum()\n",
    "        seriesRatio = endSeries/begningSeries\n",
    "        fareSeriesRatios[ridetype[n]] = (n,seriesRatio)\n",
    "\n",
    "pl.xticks(rotation='45')\n",
    "\n",
    "box = ax.get_position()\n",
    "ax.set_position([box.x0, box.y0, box.width * 1, box.height])\n",
    "ax.legend(loc='best', bbox_to_anchor=(1, 1))\n"
   ]
  },
  {
   "cell_type": "code",
   "execution_count": null,
   "metadata": {
    "collapsed": false
   },
   "outputs": [],
   "source": [
    "# If a ridership type popularity has increased, the ratio will be > 1 (ended with more rides that started)\n",
    "# if it decreased, it will be the oposite. Lets plot them side by side\n",
    "\n",
    "f, (ax1, ax2) = pl.subplots(1, 2, sharey=True, figsize=(15,6))\n",
    "\n",
    "for ax in f.axes:\n",
    "    matplotlib.pyplot.sca(ax)\n",
    "    plt.xticks(rotation='65')\n",
    "    pl.xlabel(\"Weeks\")\n",
    "    pl.ylabel(\"Swipes (Log10))\") \n",
    "      \n",
    "ax1.set_title('Increasing Popularity')\n",
    "ax2.set_title('Decreased Popularity')\n",
    "\n",
    "for key, value in fareSeriesRatios.items():\n",
    "    if (fareSeriesRatios[key][1] > 1):\n",
    "        ax1.plot(date_rng, np.log10(pd.stats.moments.rolling_mean(all_mtrides[fareSeriesRatios[key][0]], 10)), \n",
    "                 alpha = .7, label = key)\n",
    "    else:\n",
    "        ax2.plot(date_rng, np.log10(pd.stats.moments.rolling_mean(all_mtrides[fareSeriesRatios[key][0]], 10)), \n",
    "                 alpha = .7, label = key)\n",
    "\n",
    "pl.show()\n"
   ]
  },
  {
   "cell_type": "code",
   "execution_count": null,
   "metadata": {
    "collapsed": false
   },
   "outputs": [],
   "source": [
    "downFare =  min(fareSeriesRatios.items(), key=lambda x: x[1][1])\n",
    "upFare =  max(fareSeriesRatios.items(), key=lambda x: x[1][1])\n",
    "\n",
    "f, (ax1, ax2) = pl.subplots(1, 2, sharey=True,figsize=(15,6))\n",
    "\n",
    "for ax in f.axes:\n",
    "    matplotlib.pyplot.sca(ax)\n",
    "    pl.xticks(rotation='65')\n",
    "    pl.xlabel(\"Weeks\")\n",
    "    pl.ylabel(\"Swipes (Total))\") \n",
    "\n",
    "ax1.set_title('Steepest Increase fare type: ' + upFare[0])\n",
    "ax2.set_title('Steepest Decrease fare type: ' + downFare[0])\n",
    "\n",
    "ax1.plot(date_rng, pd.stats.moments.rolling_mean(all_mtrides[fareSeriesRatios['sen'][0]],10)\n",
    "         , alpha = .7, label = 'sen')\n",
    "\n",
    "ax2.plot(date_rng, pd.stats.moments.rolling_mean(all_mtrides[fareSeriesRatios['month'][0]],10)\n",
    "        , alpha = .7, label = 'month')\n",
    "\n",
    "pl.show()\n",
    "\n",
    "print (\"Figure V: Total swipes per week for the steepest increase and decres fares\" + '\\n')\n",
    "\n",
    "print (\"The fare type with the steepest upware trend is \" + upFare[0] + \", this fare went from an average \" +\n",
    "       '\\n' + \"of \" + str(np.average(all_mtrides[ridetype(upFare[0])][:10])) + \" swipes \" +\n",
    "       \"per week during the first 10 weeks to an average of \" \n",
    "       + str(np.average(all_mtrides[ridetype(upFare[0])][-10:])) + \" during the last ten weeks\")\n",
    "\n",
    "print ('\\n')\n",
    "\n",
    "print (\"The fare type with the steepest downard trend is \" + downFare[0] + \", this fare went from an average \" +\n",
    "       '\\n' + \"of \" + str(np.average(all_mtrides[ridetype.index(downFare[0])][:10])) + \" swipes \" +\n",
    "       \"per week during the first 10 weeks to an average of \" \n",
    "       + str(np.average(all_mtrides[ridetype(downFare[0])][-10:])) + \" during the last ten weeks\")"
   ]
  },
  {
   "cell_type": "code",
   "execution_count": null,
   "metadata": {
    "collapsed": false
   },
   "outputs": [],
   "source": [
    "# rides per 23 stations \n",
    "print (rides.shape) #all dimensions\n",
    "rides_mean0 = np.nanmean(rides, axis=0)\n",
    "rides_allsum0 = np.nansum(rides, axis=0) #Axis along which the sum is cmptd is 0\n",
    "print (rides_allsum0.shape)\n",
    "rides_mean1 = np.nanmean(rides, axis=1)\n",
    "rides_allsum1= np.nansum(rides, axis=1) #Axis along which the sum is cmptd is 1\n",
    "print (rides_allsum1.shape)\n",
    "len(rides_allsum0)\n",
    "subway_allstations = np.nansum(rides, axis=1)\n",
    "#len(subway_allstations)\n",
    "#following https://github.com/fedhere/UInotebooks/blob/master/timeseries/fourier.ipynb and the updates"
   ]
  },
  {
   "cell_type": "code",
   "execution_count": null,
   "metadata": {
    "collapsed": false
   },
   "outputs": [],
   "source": [
    "\n",
    "mtarides_allStations = np.nansum(rides, axis=1)\n",
    "\n",
    "\n",
    "N = len(mtarides_allStations[1])\n",
    "fig=pl.figure(figsize=(15,5))\n",
    "ax=fig.add_subplot(111)\n",
    "\n",
    "mtarides_allStations_yearPeriodicity = {}\n",
    "\n",
    "for i in range (len(mtarides_allStations)):\n",
    "    f = np.abs(np.fft.rfft(mtarides_allStations[i]))\n",
    "    ffreq = np.fft.rfftfreq(N, 1.0)\n",
    "    mtarides_allStations_power[i]=(ffreq,f)\n",
    "    ax.plot(ffreq[2:], (f[2:]), '-')\n",
    "    mtarides_allStations_yearPeriodicity[i]=((f[4]))\n",
    "\n",
    "ax.set_xticklabels([ \"%s\"%(1/f) for f in ax.get_xticks()], fontsize=20)\n",
    "pl.xlabel(\"Period (Weeks)\", fontsize=15)\n",
    "pl.ylabel(\"Power\", fontsize=15)\n",
    "\n",
    "ax.set_title('Power Spectrum for all 600 Subway stations in Manhattan', fontsize=20)"
   ]
  },
  {
   "cell_type": "code",
   "execution_count": null,
   "metadata": {
    "collapsed": true
   },
   "outputs": [],
   "source": []
  },
  {
   "cell_type": "code",
   "execution_count": null,
   "metadata": {
    "collapsed": true
   },
   "outputs": [],
   "source": []
  }
 ],
 "metadata": {
  "kernelspec": {
   "display_name": "PUI2016_Python3",
   "language": "python",
   "name": "pui2016_python3"
  },
  "language_info": {
   "codemirror_mode": {
    "name": "ipython",
    "version": 3
   },
   "file_extension": ".py",
   "mimetype": "text/x-python",
   "name": "python",
   "nbconvert_exporter": "python",
   "pygments_lexer": "ipython3",
   "version": "3.5.2"
  }
 },
 "nbformat": 4,
 "nbformat_minor": 0
}
